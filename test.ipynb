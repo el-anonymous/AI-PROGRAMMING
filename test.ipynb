{
 "cells": [
  {
   "cell_type": "markdown",
   "id": "687df796",
   "metadata": {},
   "source": [
    "100 Days of Code"
   ]
  },
  {
   "cell_type": "markdown",
   "id": "2f383d4c",
   "metadata": {},
   "source": [
    "Day 1"
   ]
  },
  {
   "cell_type": "code",
   "execution_count": 14,
   "id": "0e68ccd8",
   "metadata": {},
   "outputs": [
    {
     "name": "stdout",
     "output_type": "stream",
     "text": [
      "My name is Eberechukwu Onunwa\n"
     ]
    }
   ],
   "source": [
    "print(\"My name is Eberechukwu Onunwa\")"
   ]
  },
  {
   "cell_type": "code",
   "execution_count": 15,
   "id": "14cbe357",
   "metadata": {},
   "outputs": [
    {
     "name": "stdout",
     "output_type": "stream",
     "text": [
      "1. Mix 500g of Flour, 10g Yeast and 300ml ater in a bowl.\n",
      "2. Knead the dough for 10 minutes.\n",
      "3. Add 3g of Salt.\n",
      "4. Leave to rise for 2 hours.\n",
      "5. Bake at 200 degrees C for 30 minutes.\n"
     ]
    }
   ],
   "source": [
    "print(\"1. Mix 500g of Flour, 10g Yeast and 300ml ater in a bowl.\\n\" + \"2. Knead the dough for 10 minutes.\\n\" + \"3. Add 3g of Salt.\\n\" + \"4. Leave to rise for 2 hours.\\n\" + \"5. Bake at 200 degrees C for 30 minutes.\")"
   ]
  },
  {
   "cell_type": "code",
   "execution_count": 16,
   "id": "e9f5a861",
   "metadata": {},
   "outputs": [
    {
     "data": {
      "text/plain": [
       "'Eberecgukwu'"
      ]
     },
     "execution_count": 16,
     "metadata": {},
     "output_type": "execute_result"
    }
   ],
   "source": [
    "input(\"what is your name?\")"
   ]
  },
  {
   "cell_type": "code",
   "execution_count": 17,
   "id": "10ae3348",
   "metadata": {},
   "outputs": [
    {
     "name": "stdout",
     "output_type": "stream",
     "text": [
      "Hello jyhgbsjhbhj!\n",
      "you are welcomed\n"
     ]
    }
   ],
   "source": [
    "print(\"Hello \" + input(\"What is your name?\") + \"!\\n\" + \"you are welcomed\")"
   ]
  },
  {
   "cell_type": "code",
   "execution_count": 18,
   "id": "c423bd0a",
   "metadata": {},
   "outputs": [
    {
     "name": "stdout",
     "output_type": "stream",
     "text": [
      "Dear hjbvfhkbksfd, You are Welcomed\n"
     ]
    }
   ],
   "source": [
    "name = input(\"What is your name?\")\n",
    "print(\"Dear \" + name + \", \" + \"You are Welcomed\")"
   ]
  },
  {
   "cell_type": "code",
   "execution_count": 19,
   "id": "18229bf0",
   "metadata": {},
   "outputs": [
    {
     "name": "stdout",
     "output_type": "stream",
     "text": [
      "8\n"
     ]
    }
   ],
   "source": [
    "print(len(input(\"What is your name?\")))"
   ]
  },
  {
   "cell_type": "code",
   "execution_count": 38,
   "id": "a8545687",
   "metadata": {},
   "outputs": [
    {
     "name": "stdout",
     "output_type": "stream",
     "text": [
      "16\n"
     ]
    }
   ],
   "source": [
    "name = input(\"What is your name?\")\n",
    "length = len(name)\n",
    "print(length)"
   ]
  },
  {
   "cell_type": "code",
   "execution_count": 33,
   "id": "40eb7990",
   "metadata": {},
   "outputs": [
    {
     "name": "stdout",
     "output_type": "stream",
     "text": [
      "Welcome to the Band Name Generator\n",
      "Your band name could be dddf ddff\n"
     ]
    }
   ],
   "source": [
    "print(\"Welcome to the Band Name Generator\")\n",
    "city_name = input(\"What is the name of the city you grew up in?\")\n",
    "pet_name = input(\"What is the name of your pet?\")\n",
    "print(\"Your band name could be \" + city_name + \" \" + pet_name)"
   ]
  },
  {
   "cell_type": "markdown",
   "id": "2ae84f6e",
   "metadata": {},
   "source": [
    "Day 2 - Data Types"
   ]
  },
  {
   "cell_type": "code",
   "execution_count": 27,
   "id": "d7b14eac",
   "metadata": {},
   "outputs": [
    {
     "name": "stdout",
     "output_type": "stream",
     "text": [
      "bhbgfvjkbgvkjbgVEFKJRE j\n"
     ]
    }
   ],
   "source": [
    "#subscripting\n",
    "name = input(\"What is your name?\")\n",
    "print(name + \" \" + name[6])"
   ]
  },
  {
   "cell_type": "code",
   "execution_count": 31,
   "id": "813c695f",
   "metadata": {},
   "outputs": [
    {
     "data": {
      "text/plain": [
       "37"
      ]
     },
     "execution_count": 31,
     "metadata": {},
     "output_type": "execute_result"
    }
   ],
   "source": [
    "len(\"1239999999999999999999999999999999994\")"
   ]
  },
  {
   "cell_type": "code",
   "execution_count": 32,
   "id": "ede1352f",
   "metadata": {},
   "outputs": [
    {
     "name": "stdout",
     "output_type": "stream",
     "text": [
      "<class 'str'>\n",
      "<class 'int'>\n",
      "<class 'bool'>\n",
      "<class 'float'>\n"
     ]
    }
   ],
   "source": [
    "print(type(\"Hello\"))\n",
    "print(type(1234))\n",
    "print(type(False))\n",
    "print(type(234.56))"
   ]
  },
  {
   "cell_type": "markdown",
   "id": "4f828cd0",
   "metadata": {},
   "source": [
    "Type Conversion\n",
    "type()"
   ]
  },
  {
   "cell_type": "code",
   "execution_count": 39,
   "id": "89a31f7f",
   "metadata": {},
   "outputs": [
    {
     "name": "stdout",
     "output_type": "stream",
     "text": [
      "Eberechukwu Onunwa! Your name contains 18 letters.\n"
     ]
    }
   ],
   "source": [
    "name = input(\"What is your name?\")\n",
    "length = len(name)\n",
    "print(name + \"! \" + \"Your name contains \" + str(length) + \" letters.\")"
   ]
  },
  {
   "cell_type": "code",
   "execution_count": 49,
   "id": "9e17c3df",
   "metadata": {},
   "outputs": [
    {
     "name": "stdout",
     "output_type": "stream",
     "text": [
      "3\n",
      "256\n"
     ]
    }
   ],
   "source": [
    "print(9 - 8 + 9 * 2 % 8)\n",
    "print(4 ** 4)"
   ]
  }
 ],
 "metadata": {
  "kernelspec": {
   "display_name": "base",
   "language": "python",
   "name": "python3"
  },
  "language_info": {
   "codemirror_mode": {
    "name": "ipython",
    "version": 3
   },
   "file_extension": ".py",
   "mimetype": "text/x-python",
   "name": "python",
   "nbconvert_exporter": "python",
   "pygments_lexer": "ipython3",
   "version": "3.13.5"
  }
 },
 "nbformat": 4,
 "nbformat_minor": 5
}
